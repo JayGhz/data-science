{
 "cells": [
  {
   "cell_type": "code",
   "execution_count": 206,
   "metadata": {},
   "outputs": [],
   "source": [
    "import pandas as pd\n",
    "\n",
    "data = pd.DataFrame(\n",
    "    {\n",
    "        \"Name\": [\"Juan\", \"Pedro\", \"Maria\", \"Mark\", \"Eve\", \"Luis\", \"Ana\"],\n",
    "        \"Age\": [25, 40, 15, 40, 45, 22, 27],\n",
    "        \"Salary\": [4200, 6000, 5500, 7200, 1200, 1800, 2300],\n",
    "        \"Department\": [\"IT\", \"Marketing\", \"IT\", \"IT\", \"Marketing\", \"Sales\", \"IT\"],\n",
    "    }\n",
    ")"
   ]
  },
  {
   "cell_type": "code",
   "execution_count": 207,
   "metadata": {},
   "outputs": [
    {
     "name": "stdout",
     "output_type": "stream",
     "text": [
      "    Name  Age  Salary Department\n",
      "0   Juan   25    4200         IT\n",
      "1  Pedro   40    6000  Marketing\n",
      "2  Maria   15    5500         IT\n",
      "3   Mark   40    7200         IT\n",
      "4    Eve   45    1200  Marketing\n",
      "5   Luis   22    1800      Sales\n",
      "6    Ana   27    2300         IT\n"
     ]
    }
   ],
   "source": [
    "print(data)"
   ]
  },
  {
   "cell_type": "markdown",
   "metadata": {},
   "source": [
    "## Sorting"
   ]
  },
  {
   "cell_type": "code",
   "execution_count": 208,
   "metadata": {},
   "outputs": [
    {
     "name": "stdout",
     "output_type": "stream",
     "text": [
      "    Name  Age  Salary Department\n",
      "4    Eve   45    1200  Marketing\n",
      "5   Luis   22    1800      Sales\n",
      "6    Ana   27    2300         IT\n",
      "0   Juan   25    4200         IT\n",
      "2  Maria   15    5500         IT\n",
      "1  Pedro   40    6000  Marketing\n",
      "3   Mark   40    7200         IT\n"
     ]
    }
   ],
   "source": [
    "# Sorting data by accending order (Salary)\n",
    "print(data.sort_values(by=\"Salary\"))  # default is accending order"
   ]
  },
  {
   "cell_type": "code",
   "execution_count": 209,
   "metadata": {},
   "outputs": [
    {
     "name": "stdout",
     "output_type": "stream",
     "text": [
      "    Name  Age  Salary Department\n",
      "3   Mark   40    7200         IT\n",
      "1  Pedro   40    6000  Marketing\n",
      "2  Maria   15    5500         IT\n",
      "0   Juan   25    4200         IT\n",
      "6    Ana   27    2300         IT\n",
      "5   Luis   22    1800      Sales\n",
      "4    Eve   45    1200  Marketing\n"
     ]
    }
   ],
   "source": [
    "# Sorting data by descending order (Salary)\n",
    "print(data.sort_values(by=\"Salary\", ascending=False))"
   ]
  },
  {
   "cell_type": "markdown",
   "metadata": {},
   "source": [
    "## Grouping"
   ]
  },
  {
   "cell_type": "code",
   "execution_count": 210,
   "metadata": {},
   "outputs": [
    {
     "name": "stdout",
     "output_type": "stream",
     "text": [
      "Department\n",
      "IT           4\n",
      "Marketing    2\n",
      "Sales        1\n",
      "Name: Name, dtype: int64\n"
     ]
    }
   ],
   "source": [
    "# Count the number of employees in each department\n",
    "print(data.groupby('Department')['Name'].count())"
   ]
  },
  {
   "cell_type": "code",
   "execution_count": 211,
   "metadata": {},
   "outputs": [
    {
     "name": "stdout",
     "output_type": "stream",
     "text": [
      "Department\n",
      "IT           4800.0\n",
      "Marketing    3600.0\n",
      "Sales        1800.0\n",
      "Name: Salary, dtype: float64\n"
     ]
    }
   ],
   "source": [
    "# Calculate the average salary per department\n",
    "print(data.groupby('Department')['Salary'].mean())\n"
   ]
  },
  {
   "cell_type": "code",
   "execution_count": 212,
   "metadata": {},
   "outputs": [
    {
     "name": "stdout",
     "output_type": "stream",
     "text": [
      "Department\n",
      "IT           2300\n",
      "Marketing    1200\n",
      "Sales        1800\n",
      "Name: Salary, dtype: int64\n"
     ]
    }
   ],
   "source": [
    "# Get the minimun salary per department\n",
    "print(data.groupby('Department')['Salary'].min())\n"
   ]
  },
  {
   "cell_type": "code",
   "execution_count": 213,
   "metadata": {},
   "outputs": [
    {
     "name": "stdout",
     "output_type": "stream",
     "text": [
      "Department\n",
      "IT           7200\n",
      "Marketing    6000\n",
      "Sales        1800\n",
      "Name: Salary, dtype: int64\n"
     ]
    }
   ],
   "source": [
    "# Get the maximum salary per department\n",
    "print(data.groupby('Department')['Salary'].max())"
   ]
  },
  {
   "cell_type": "markdown",
   "metadata": {},
   "source": [
    "## Filtering"
   ]
  },
  {
   "cell_type": "code",
   "execution_count": 214,
   "metadata": {},
   "outputs": [
    {
     "name": "stdout",
     "output_type": "stream",
     "text": [
      "    Name  Age  Salary Department\n",
      "0   Juan   25    4200         IT\n",
      "1  Pedro   40    6000  Marketing\n",
      "2  Maria   15    5500         IT\n",
      "3   Mark   40    7200         IT\n"
     ]
    }
   ],
   "source": [
    "# Employees with a salary greater than 3500\n",
    "print(data[data['Salary'] > 3500])"
   ]
  },
  {
   "cell_type": "code",
   "execution_count": 215,
   "metadata": {},
   "outputs": [
    {
     "name": "stdout",
     "output_type": "stream",
     "text": [
      "    Name  Age  Salary Department\n",
      "0   Juan   25    4200         IT\n",
      "2  Maria   15    5500         IT\n"
     ]
    }
   ],
   "source": [
    "# Employees with a salary greater than 3500 and less than 5000\n",
    "print(data[(data['Salary'] > 3500) & (data['Salary'] < 6000)])"
   ]
  },
  {
   "cell_type": "code",
   "execution_count": 216,
   "metadata": {},
   "outputs": [
    {
     "name": "stdout",
     "output_type": "stream",
     "text": [
      "    Name  Age  Salary Department\n",
      "0   Juan   25    4200         IT\n",
      "1  Pedro   40    6000  Marketing\n",
      "3   Mark   40    7200         IT\n",
      "6    Ana   27    2300         IT\n"
     ]
    }
   ],
   "source": [
    "# Employees with an age between 25 and 40\n",
    "print(data[(data['Age'] >= 25) & (data['Age'] <= 40)])"
   ]
  },
  {
   "cell_type": "code",
   "execution_count": 217,
   "metadata": {},
   "outputs": [
    {
     "name": "stdout",
     "output_type": "stream",
     "text": [
      "    Name  Age  Salary Department\n",
      "0   Juan   25    4200         IT\n",
      "1  Pedro   40    6000  Marketing\n",
      "3   Mark   40    7200         IT\n",
      "6    Ana   27    2300         IT\n"
     ]
    }
   ],
   "source": [
    "print(data[data['Age'].between(25, 40)]) "
   ]
  },
  {
   "cell_type": "code",
   "execution_count": 218,
   "metadata": {},
   "outputs": [
    {
     "name": "stdout",
     "output_type": "stream",
     "text": [
      "    Name  Age  Salary Department\n",
      "0   Juan   25    4200         IT\n",
      "1  Pedro   40    6000  Marketing\n",
      "3   Mark   40    7200         IT\n"
     ]
    }
   ],
   "source": [
    "# Employees with age 25 and 40\n",
    "print(data[data['Age'].isin([25, 40])]) "
   ]
  }
 ],
 "metadata": {
  "kernelspec": {
   "display_name": "env",
   "language": "python",
   "name": "python3"
  },
  "language_info": {
   "codemirror_mode": {
    "name": "ipython",
    "version": 3
   },
   "file_extension": ".py",
   "mimetype": "text/x-python",
   "name": "python",
   "nbconvert_exporter": "python",
   "pygments_lexer": "ipython3",
   "version": "3.12.7"
  }
 },
 "nbformat": 4,
 "nbformat_minor": 2
}
