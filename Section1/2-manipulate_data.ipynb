{
 "cells": [
  {
   "cell_type": "code",
   "execution_count": 27,
   "metadata": {},
   "outputs": [
    {
     "name": "stdout",
     "output_type": "stream",
     "text": [
      "   Year  Agriculture  Architecture  Art and Performance    Biology   Business  \\\n",
      "0  1970     4.229798     11.921005                 59.7  29.088363   9.064439   \n",
      "1  1971     5.452797     12.003106                 59.9  29.394403   9.503187   \n",
      "2  1972     7.420710     13.214594                 60.4  29.810221  10.558962   \n",
      "3  1973     9.653602     14.791613                 60.2  31.147915  12.804602   \n",
      "4  1974    14.074623     17.444688                 61.9  32.996183  16.204850   \n",
      "5  1975    18.333162     19.134048                 60.9  34.449902  19.686249   \n",
      "6  1976    22.252760     21.394491                 61.3  36.072871  23.430038   \n",
      "7  1977    24.640177     23.740541                 62.0  38.331386  27.163427   \n",
      "8  1978    27.146192     25.849240                 62.5  40.112496  30.527519   \n",
      "9  1979    29.633365     27.770477                 63.2  42.065551  33.621634   \n",
      "\n",
      "   Communications and Journalism  Computer Science  Education  Engineering  \\\n",
      "0                           35.3              13.6  74.535328          0.8   \n",
      "1                           35.5              13.6  74.149204          1.0   \n",
      "2                           36.6              14.9  73.554520          1.2   \n",
      "3                           38.4              16.4  73.501814          1.6   \n",
      "4                           40.5              18.9  73.336811          2.2   \n",
      "5                           41.5              19.8  72.801854          3.2   \n",
      "6                           44.3              23.9  72.166525          4.5   \n",
      "7                           46.9              25.7  72.456395          6.8   \n",
      "8                           49.9              28.1  73.192821          8.4   \n",
      "9                           52.3              30.2  73.821142          9.4   \n",
      "\n",
      "     English  Foreign Languages  Health Professions  Math and Statistics  \\\n",
      "0  65.570923               73.8                77.1                 38.0   \n",
      "1  64.556485               73.9                75.5                 39.0   \n",
      "2  63.664263               74.6                76.9                 40.2   \n",
      "3  62.941502               74.9                77.4                 40.9   \n",
      "4  62.413412               75.3                77.9                 41.8   \n",
      "5  61.647206               75.0                78.9                 40.7   \n",
      "6  62.148194               74.4                79.2                 41.5   \n",
      "7  62.723067               74.3                80.5                 41.1   \n",
      "8  63.619122               74.3                81.9                 41.6   \n",
      "9  65.088390               74.2                82.3                 42.3   \n",
      "\n",
      "   Physical Sciences  Psychology  Public Administration  \\\n",
      "0               13.8        44.4                   68.4   \n",
      "1               14.9        46.2                   65.5   \n",
      "2               14.8        47.6                   62.6   \n",
      "3               16.5        50.4                   64.3   \n",
      "4               18.2        52.6                   66.1   \n",
      "5               19.1        54.5                   63.0   \n",
      "6               20.0        56.9                   65.6   \n",
      "7               21.3        59.0                   69.3   \n",
      "8               22.5        61.3                   71.5   \n",
      "9               23.7        63.3                   73.3   \n",
      "\n",
      "   Social Sciences and History  \n",
      "0                         36.8  \n",
      "1                         36.2  \n",
      "2                         36.1  \n",
      "3                         36.4  \n",
      "4                         37.3  \n",
      "5                         37.7  \n",
      "6                         39.2  \n",
      "7                         40.5  \n",
      "8                         41.8  \n",
      "9                         43.6  \n"
     ]
    }
   ],
   "source": [
    "import pandas as pd\n",
    "\n",
    "# Head and Tail of data frame\n",
    "df = pd.read_csv(\"../data/percent_bachelors_degrees_women_usa.csv\")\n",
    "print(df.head(10))"
   ]
  },
  {
   "cell_type": "code",
   "execution_count": 28,
   "metadata": {},
   "outputs": [
    {
     "name": "stdout",
     "output_type": "stream",
     "text": [
      "    Year  Agriculture  Architecture  Art and Performance    Biology  \\\n",
      "32  2002    47.134658     41.132951                 60.9  61.895128   \n",
      "33  2003    47.935187     42.758543                 61.1  62.169456   \n",
      "34  2004    47.887140     43.466493                 61.3  61.914587   \n",
      "35  2005    47.672754     43.100368                 61.4  61.500984   \n",
      "36  2006    46.790300     44.499331                 61.6  60.172845   \n",
      "37  2007    47.605026     43.100459                 61.4  59.411993   \n",
      "38  2008    47.570834     42.711730                 60.7  59.305765   \n",
      "39  2009    48.667224     43.348921                 61.0  58.489583   \n",
      "40  2010    48.730042     42.066721                 61.3  59.010255   \n",
      "41  2011    50.037182     42.773438                 61.2  58.742397   \n",
      "\n",
      "     Business  Communications and Journalism  Computer Science  Education  \\\n",
      "32  50.552335                           63.7              27.0  78.644244   \n",
      "33  50.345598                           64.6              25.1  78.544948   \n",
      "34  49.950894                           64.2              22.2  78.650748   \n",
      "35  49.791851                           63.4              20.6  79.067122   \n",
      "36  49.210914                           63.0              18.6  78.686306   \n",
      "37  49.000459                           62.5              17.6  78.721413   \n",
      "38  48.888027                           62.4              17.8  79.196327   \n",
      "39  48.840474                           62.8              18.1  79.532909   \n",
      "40  48.757988                           62.5              17.6  79.618625   \n",
      "41  48.180418                           62.2              18.2  79.432812   \n",
      "\n",
      "    Engineering    English  Foreign Languages  Health Professions  \\\n",
      "32         18.7  68.829960               70.5                85.8   \n",
      "33         18.8  68.894487               70.6                86.5   \n",
      "34         18.2  68.454734               70.8                86.5   \n",
      "35         17.9  68.571221               69.9                86.0   \n",
      "36         16.8  68.297594               69.6                85.9   \n",
      "37         16.8  67.874923               70.2                85.4   \n",
      "38         16.5  67.594028               70.2                85.2   \n",
      "39         16.8  67.969792               69.3                85.1   \n",
      "40         17.2  67.928106               69.0                85.0   \n",
      "41         17.5  68.426730               69.5                84.8   \n",
      "\n",
      "    Math and Statistics  Physical Sciences  Psychology  Public Administration  \\\n",
      "32                 45.7               41.1        77.7                   81.3   \n",
      "33                 46.0               41.7        77.8                   81.5   \n",
      "34                 44.7               42.1        77.8                   80.7   \n",
      "35                 45.1               41.6        77.5                   81.2   \n",
      "36                 44.1               40.8        77.4                   81.2   \n",
      "37                 44.1               40.7        77.1                   82.1   \n",
      "38                 43.3               40.7        77.2                   81.7   \n",
      "39                 43.3               40.7        77.1                   82.0   \n",
      "40                 43.1               40.2        77.0                   81.7   \n",
      "41                 43.1               40.1        76.7                   81.9   \n",
      "\n",
      "    Social Sciences and History  \n",
      "32                         51.5  \n",
      "33                         50.9  \n",
      "34                         50.5  \n",
      "35                         50.0  \n",
      "36                         49.8  \n",
      "37                         49.3  \n",
      "38                         49.4  \n",
      "39                         49.4  \n",
      "40                         49.3  \n",
      "41                         49.2  \n"
     ]
    }
   ],
   "source": [
    "print(df.tail(10))"
   ]
  },
  {
   "cell_type": "code",
   "execution_count": 29,
   "metadata": {},
   "outputs": [
    {
     "data": {
      "text/plain": [
       "Year                             1970.000000\n",
       "Agriculture                         4.229798\n",
       "Architecture                       11.921005\n",
       "Art and Performance                59.700000\n",
       "Biology                            29.088363\n",
       "Business                            9.064439\n",
       "Communications and Journalism      35.300000\n",
       "Computer Science                   13.600000\n",
       "Education                          74.535328\n",
       "Engineering                         0.800000\n",
       "English                            65.570923\n",
       "Foreign Languages                  73.800000\n",
       "Health Professions                 77.100000\n",
       "Math and Statistics                38.000000\n",
       "Physical Sciences                  13.800000\n",
       "Psychology                         44.400000\n",
       "Public Administration              68.400000\n",
       "Social Sciences and History        36.800000\n",
       "Name: 0, dtype: float64"
      ]
     },
     "execution_count": 29,
     "metadata": {},
     "output_type": "execute_result"
    }
   ],
   "source": [
    "# Access data using index (an especific row)\n",
    "df.iloc[0]"
   ]
  },
  {
   "cell_type": "code",
   "execution_count": 30,
   "metadata": {},
   "outputs": [
    {
     "name": "stdout",
     "output_type": "stream",
     "text": [
      "   A1  A2  A3\n",
      "X   1   4   7\n",
      "Y   2   5   8\n",
      "Z   3   6   9\n"
     ]
    }
   ],
   "source": [
    "# Acces to an especific column\n",
    "import pandas as pd\n",
    "\n",
    "data = pd.DataFrame({\n",
    "    'A1': [1, 2, 3],\n",
    "    'A2': [4, 5, 6],\n",
    "    'A3': [7, 8, 9]\n",
    "}, index= ['X', 'Y', 'Z'])\n",
    "\n",
    "print(data)"
   ]
  },
  {
   "cell_type": "code",
   "execution_count": 31,
   "metadata": {},
   "outputs": [
    {
     "name": "stdout",
     "output_type": "stream",
     "text": [
      "A1    1\n",
      "A2    4\n",
      "A3    7\n",
      "Name: X, dtype: int64\n"
     ]
    }
   ],
   "source": [
    "# Print the column 'X'\n",
    "print(data.loc['X', :])"
   ]
  },
  {
   "cell_type": "code",
   "execution_count": 32,
   "metadata": {},
   "outputs": [
    {
     "name": "stdout",
     "output_type": "stream",
     "text": [
      "5\n"
     ]
    }
   ],
   "source": [
    "# Print the number in Y and A2\n",
    "print(data.loc['Y','A2'])"
   ]
  }
 ],
 "metadata": {
  "kernelspec": {
   "display_name": "env",
   "language": "python",
   "name": "python3"
  },
  "language_info": {
   "codemirror_mode": {
    "name": "ipython",
    "version": 3
   },
   "file_extension": ".py",
   "mimetype": "text/x-python",
   "name": "python",
   "nbconvert_exporter": "python",
   "pygments_lexer": "ipython3",
   "version": "3.12.7"
  }
 },
 "nbformat": 4,
 "nbformat_minor": 2
}
